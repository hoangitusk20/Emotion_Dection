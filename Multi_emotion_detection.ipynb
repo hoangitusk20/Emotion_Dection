{
  "nbformat": 4,
  "nbformat_minor": 0,
  "metadata": {
    "colab": {
      "provenance": [],
      "gpuType": "T4"
    },
    "kernelspec": {
      "name": "python3",
      "display_name": "Python 3"
    },
    "language_info": {
      "name": "python"
    },
    "accelerator": "GPU"
  },
  "cells": [
    {
      "cell_type": "markdown",
      "source": [
        "The notebook attempts to address the Multi-emotion dectection problem from the link https://github.com/savan77/EmotionDetectionBERT/"
      ],
      "metadata": {
        "id": "pYKRO7HtOm97"
      }
    },
    {
      "cell_type": "code",
      "execution_count": 5,
      "metadata": {
        "id": "RUt__19XM0xk"
      },
      "outputs": [],
      "source": [
        "from google.colab import drive\n",
        "import os\n",
        "import matplotlib.pyplot as plt\n",
        "from sklearn.feature_extraction.text import TfidfVectorizer\n",
        "from sklearn.multioutput import MultiOutputClassifier\n",
        "from sklearn.linear_model import LogisticRegression\n",
        "from sklearn.datasets import make_multilabel_classification\n",
        "from collections import Counter\n",
        "from sklearn.metrics import classification_report\n",
        "\n",
        "import tensorflow as tf\n",
        "from tensorflow.keras.preprocessing.text import Tokenizer\n",
        "from keras.models import Sequential\n",
        "from keras.layers import LSTM, Embedding, Dense, SpatialDropout1D, Bidirectional,GlobalAveragePooling1D, Dropout\n",
        "from keras.preprocessing.sequence import pad_sequences\n",
        "from tensorflow.keras.optimizers import Adam\n",
        "\n",
        "from tensorflow.keras.metrics import BinaryAccuracy\n",
        "\n",
        "\n",
        "#!pip install tensorflow_text\n",
        "import tensorflow_hub as hub\n",
        "\n",
        "\n"
      ]
    },
    {
      "cell_type": "code",
      "source": [
        "\n",
        "#drive.mount('/content/drive/')\n",
        "#os.chdir('/content/drive/My Drive/BERT/Multi_emotion')"
      ],
      "metadata": {
        "id": "tYakHxQE9viJ"
      },
      "execution_count": 6,
      "outputs": []
    },
    {
      "cell_type": "code",
      "source": [
        "!nvidia-smi"
      ],
      "metadata": {
        "colab": {
          "base_uri": "https://localhost:8080/"
        },
        "id": "m8PfvaNtNRN1",
        "outputId": "73bb46cc-9da0-40c3-b963-9fee2b3676a2"
      },
      "execution_count": 7,
      "outputs": [
        {
          "output_type": "stream",
          "name": "stdout",
          "text": [
            "Tue Apr 30 12:21:34 2024       \n",
            "+---------------------------------------------------------------------------------------+\n",
            "| NVIDIA-SMI 535.104.05             Driver Version: 535.104.05   CUDA Version: 12.2     |\n",
            "|-----------------------------------------+----------------------+----------------------+\n",
            "| GPU  Name                 Persistence-M | Bus-Id        Disp.A | Volatile Uncorr. ECC |\n",
            "| Fan  Temp   Perf          Pwr:Usage/Cap |         Memory-Usage | GPU-Util  Compute M. |\n",
            "|                                         |                      |               MIG M. |\n",
            "|=========================================+======================+======================|\n",
            "|   0  Tesla T4                       Off | 00000000:00:04.0 Off |                    0 |\n",
            "| N/A   72C    P0              33W /  70W |    103MiB / 15360MiB |      0%      Default |\n",
            "|                                         |                      |                  N/A |\n",
            "+-----------------------------------------+----------------------+----------------------+\n",
            "                                                                                         \n",
            "+---------------------------------------------------------------------------------------+\n",
            "| Processes:                                                                            |\n",
            "|  GPU   GI   CI        PID   Type   Process name                            GPU Memory |\n",
            "|        ID   ID                                                             Usage      |\n",
            "|=======================================================================================|\n",
            "+---------------------------------------------------------------------------------------+\n"
          ]
        }
      ]
    },
    {
      "cell_type": "code",
      "source": [
        "import pandas as pd\n",
        "import numpy as np\n",
        "df_train = pd.read_csv('https://raw.githubusercontent.com/savan77/EmotionDetectionBERT/master/nlp_train.csv')\n",
        "df_test = pd.read_csv('https://raw.githubusercontent.com/savan77/EmotionDetectionBERT/master/nlp_test.csv')\n",
        "df_val = pd.read_csv('https://raw.githubusercontent.com/savan77/EmotionDetectionBERT/master/nlp_valid.csv')\n"
      ],
      "metadata": {
        "id": "q_RJKGmfGYNJ"
      },
      "execution_count": 8,
      "outputs": []
    },
    {
      "cell_type": "code",
      "source": [
        "df_train.shape, df_val.shape, df_test.shape"
      ],
      "metadata": {
        "colab": {
          "base_uri": "https://localhost:8080/"
        },
        "id": "JHkjcZIX80f7",
        "outputId": "bc0b74de-7d26-4763-8e55-b64f0cacd671"
      },
      "execution_count": 9,
      "outputs": [
        {
          "output_type": "execute_result",
          "data": {
            "text/plain": [
              "((1493, 14), (1493, 14), (374, 14))"
            ]
          },
          "metadata": {},
          "execution_count": 9
        }
      ]
    },
    {
      "cell_type": "code",
      "source": [
        "df_train = df_train.dropna()\n",
        "df_val = df_val.dropna()\n",
        "df_test = df_test.dropna()"
      ],
      "metadata": {
        "id": "w9vFY3TLD2VZ"
      },
      "execution_count": 10,
      "outputs": []
    },
    {
      "cell_type": "code",
      "source": [
        "df_train.shape, df_val.shape, df_test.shape"
      ],
      "metadata": {
        "colab": {
          "base_uri": "https://localhost:8080/"
        },
        "id": "TdgaeUyrD951",
        "outputId": "301df4d1-d826-4a6f-f309-b62df3c4ad93"
      },
      "execution_count": 11,
      "outputs": [
        {
          "output_type": "execute_result",
          "data": {
            "text/plain": [
              "((1493, 14), (165, 14), (374, 14))"
            ]
          },
          "metadata": {},
          "execution_count": 11
        }
      ]
    },
    {
      "cell_type": "code",
      "source": [
        "df_total = pd.concat([df_train, df_test, df_val], axis = 0)\n",
        "\n",
        "df_total['text_length'] = df_total['text'].apply(lambda x: len(x.split()))\n",
        "\n",
        "# Vẽ biểu đồ histogram\n",
        "plt.hist(df_total['text_length'], bins=range(0, max(df_total['text_length']) + 1, 1), color='blue', edgecolor='black')\n",
        "plt.xlabel('Number of Words')\n",
        "plt.ylabel('Frequency')\n",
        "plt.title('Histogram of Number of Words in Text')\n",
        "plt.show()\n"
      ],
      "metadata": {
        "colab": {
          "base_uri": "https://localhost:8080/",
          "height": 472
        },
        "id": "Kge3csjNUyeK",
        "outputId": "e882c340-171c-4eea-b197-509ad55d0d4f"
      },
      "execution_count": 12,
      "outputs": [
        {
          "output_type": "display_data",
          "data": {
            "text/plain": [
              "<Figure size 640x480 with 1 Axes>"
            ],
            "image/png": "[encoded data removed]"
          },
          "metadata": {}
        }
      ]
    },
    {
      "cell_type": "code",
      "source": [
        "plt.boxplot(df_total['text_length'], vert=False)\n",
        "plt.xlabel('Number of Words')\n",
        "plt.title('Box Plot of Number of Words in Text')\n",
        "plt.show()"
      ],
      "metadata": {
        "id": "q5qwkgIhVrEp",
        "colab": {
          "base_uri": "https://localhost:8080/",
          "height": 472
        },
        "outputId": "dd9714a6-65a9-4457-b3d8-4feaf0b80cf2"
      },
      "execution_count": 13,
      "outputs": [
        {
          "output_type": "display_data",
          "data": {
            "text/plain": [
              "<Figure size 640x480 with 1 Axes>"
            ],
            "image/png": "[encoded data removed]"
          },
          "metadata": {}
        }
      ]
    },
    {
      "cell_type": "markdown",
      "source": [
        "Most of sentences has less than 700 words."
      ],
      "metadata": {
        "id": "86gCBkCFV038"
      }
    },
    {
      "cell_type": "markdown",
      "source": [
        "# Logistic regression with tf-idf"
      ],
      "metadata": {
        "id": "XA8msjL0QA-D"
      }
    },
    {
      "cell_type": "code",
      "source": [
        "vectorizer = TfidfVectorizer(stop_words='english', min_df = 10)\n",
        "X_total = vectorizer.fit_transform(df_total['text'])\n",
        "X_total.shape"
      ],
      "metadata": {
        "id": "ATYxGX2qAMeB",
        "colab": {
          "base_uri": "https://localhost:8080/"
        },
        "outputId": "b5bb7d94-5e58-4356-be44-509f7ba63452"
      },
      "execution_count": 14,
      "outputs": [
        {
          "output_type": "execute_result",
          "data": {
            "text/plain": [
              "(2032, 5476)"
            ]
          },
          "metadata": {},
          "execution_count": 14
        }
      ]
    },
    {
      "cell_type": "code",
      "source": [
        "X_train = X_total[:df_train.shape[0],:]\n",
        "y_train = df_train.iloc[:, 2:]\n",
        "X_train.shape"
      ],
      "metadata": {
        "id": "Q9XLD88qKanR",
        "colab": {
          "base_uri": "https://localhost:8080/"
        },
        "outputId": "a18c9e6e-0643-43c5-c33f-1155c65dc4e2"
      },
      "execution_count": 15,
      "outputs": [
        {
          "output_type": "execute_result",
          "data": {
            "text/plain": [
              "(1493, 5476)"
            ]
          },
          "metadata": {},
          "execution_count": 15
        }
      ]
    },
    {
      "cell_type": "code",
      "source": [
        "X_val = X_total[df_train.shape[0]:df_train.shape[0] + df_val.shape[0], :]\n",
        "y_val = df_val.iloc[:, 2:]\n",
        "X_val.shape"
      ],
      "metadata": {
        "id": "znYcVuvbDCDo",
        "colab": {
          "base_uri": "https://localhost:8080/"
        },
        "outputId": "5b07404d-e1cf-45be-c5b4-47c1c7ff0f00"
      },
      "execution_count": 16,
      "outputs": [
        {
          "output_type": "execute_result",
          "data": {
            "text/plain": [
              "(165, 5476)"
            ]
          },
          "metadata": {},
          "execution_count": 16
        }
      ]
    },
    {
      "cell_type": "code",
      "source": [
        "X_test =  X_total[df_train.shape[0] + df_val.shape[0]:, :]\n",
        "y_test = df_test.iloc[:, 2:]\n",
        "X_test.shape"
      ],
      "metadata": {
        "id": "ftMwfGmMDDhf",
        "colab": {
          "base_uri": "https://localhost:8080/"
        },
        "outputId": "d3a38dcc-33fe-4696-cd3d-82d6c2f02349"
      },
      "execution_count": 17,
      "outputs": [
        {
          "output_type": "execute_result",
          "data": {
            "text/plain": [
              "(374, 5476)"
            ]
          },
          "metadata": {},
          "execution_count": 17
        }
      ]
    },
    {
      "cell_type": "code",
      "source": [
        "logistic_model = MultiOutputClassifier(LogisticRegression()).fit(X_train, y_train)"
      ],
      "metadata": {
        "id": "UOSko3pJAlRM"
      },
      "execution_count": 18,
      "outputs": []
    },
    {
      "cell_type": "markdown",
      "source": [
        "Result on train"
      ],
      "metadata": {
        "id": "3yxZjxM9NRfr"
      }
    },
    {
      "cell_type": "code",
      "source": [
        "y_predict = logistic_model.predict(X_train)\n",
        "print(classification_report(y_train, y_predict, target_names=y_test.columns.to_list()))\n"
      ],
      "metadata": {
        "id": "kUT6Sk8_NQ45",
        "colab": {
          "base_uri": "https://localhost:8080/"
        },
        "outputId": "b8086c3b-a586-4aab-dc88-f599305c7246"
      },
      "execution_count": 19,
      "outputs": [
        {
          "output_type": "stream",
          "name": "stdout",
          "text": [
            "              precision    recall  f1-score   support\n",
            "\n",
            "       anger       0.93      0.66      0.77       544\n",
            "anticipation       0.87      0.87      0.87       751\n",
            "     disgust       0.91      0.81      0.86       678\n",
            "        fear       0.90      0.79      0.84       678\n",
            "         joy       0.67      0.01      0.02       185\n",
            "        love       0.00      0.00      0.00       138\n",
            "    optimism       0.98      0.43      0.60       490\n",
            "   pessimism       0.89      0.76      0.82       646\n",
            "     sadness       0.96      0.32      0.48       414\n",
            "    surprise       1.00      0.01      0.02       162\n",
            "       trust       0.89      0.03      0.06       251\n",
            "     neutral       1.00      0.02      0.03       169\n",
            "\n",
            "   micro avg       0.91      0.58      0.71      5106\n",
            "   macro avg       0.83      0.39      0.45      5106\n",
            "weighted avg       0.88      0.58      0.64      5106\n",
            " samples avg       0.70      0.50      0.56      5106\n",
            "\n"
          ]
        },
        {
          "output_type": "stream",
          "name": "stderr",
          "text": [
            "/usr/local/lib/python3.10/dist-packages/sklearn/metrics/_classification.py:1344: UndefinedMetricWarning: Precision and F-score are ill-defined and being set to 0.0 in labels with no predicted samples. Use `zero_division` parameter to control this behavior.\n",
            "  _warn_prf(average, modifier, msg_start, len(result))\n",
            "/usr/local/lib/python3.10/dist-packages/sklearn/metrics/_classification.py:1344: UndefinedMetricWarning: Precision and F-score are ill-defined and being set to 0.0 in samples with no predicted labels. Use `zero_division` parameter to control this behavior.\n",
            "  _warn_prf(average, modifier, msg_start, len(result))\n",
            "/usr/local/lib/python3.10/dist-packages/sklearn/metrics/_classification.py:1344: UndefinedMetricWarning: Recall and F-score are ill-defined and being set to 0.0 in samples with no true labels. Use `zero_division` parameter to control this behavior.\n",
            "  _warn_prf(average, modifier, msg_start, len(result))\n"
          ]
        }
      ]
    },
    {
      "cell_type": "markdown",
      "source": [
        "Result on test"
      ],
      "metadata": {
        "id": "0i142eIdO51Q"
      }
    },
    {
      "cell_type": "code",
      "source": [
        "y_predict = logistic_model.predict(X_test)\n",
        "print(classification_report(y_test, y_predict, target_names=y_test.columns.to_list()))\n",
        "\n"
      ],
      "metadata": {
        "id": "99CuRLxICGwS",
        "colab": {
          "base_uri": "https://localhost:8080/"
        },
        "outputId": "9dcf9d12-aae0-4b32-ffb0-15a73713a1dd"
      },
      "execution_count": 20,
      "outputs": [
        {
          "output_type": "stream",
          "name": "stdout",
          "text": [
            "              precision    recall  f1-score   support\n",
            "\n",
            "       anger       0.34      0.22      0.27       121\n",
            "anticipation       0.60      0.52      0.56       218\n",
            "     disgust       0.39      0.35      0.37       156\n",
            "        fear       0.50      0.37      0.42       195\n",
            "         joy       0.00      0.00      0.00        70\n",
            "        love       0.00      0.00      0.00        30\n",
            "    optimism       0.20      0.08      0.12        97\n",
            "   pessimism       0.33      0.31      0.32       120\n",
            "     sadness       0.46      0.08      0.14       136\n",
            "    surprise       0.00      0.00      0.00        49\n",
            "       trust       0.50      0.02      0.03        60\n",
            "     neutral       1.00      0.03      0.05        38\n",
            "\n",
            "   micro avg       0.44      0.25      0.32      1290\n",
            "   macro avg       0.36      0.16      0.19      1290\n",
            "weighted avg       0.40      0.25      0.28      1290\n",
            " samples avg       0.32      0.24      0.24      1290\n",
            "\n"
          ]
        },
        {
          "output_type": "stream",
          "name": "stderr",
          "text": [
            "/usr/local/lib/python3.10/dist-packages/sklearn/metrics/_classification.py:1344: UndefinedMetricWarning: Precision and F-score are ill-defined and being set to 0.0 in labels with no predicted samples. Use `zero_division` parameter to control this behavior.\n",
            "  _warn_prf(average, modifier, msg_start, len(result))\n",
            "/usr/local/lib/python3.10/dist-packages/sklearn/metrics/_classification.py:1344: UndefinedMetricWarning: Precision and F-score are ill-defined and being set to 0.0 in samples with no predicted labels. Use `zero_division` parameter to control this behavior.\n",
            "  _warn_prf(average, modifier, msg_start, len(result))\n",
            "/usr/local/lib/python3.10/dist-packages/sklearn/metrics/_classification.py:1344: UndefinedMetricWarning: Recall and F-score are ill-defined and being set to 0.0 in samples with no true labels. Use `zero_division` parameter to control this behavior.\n",
            "  _warn_prf(average, modifier, msg_start, len(result))\n"
          ]
        }
      ]
    },
    {
      "cell_type": "markdown",
      "source": [
        "The result on test is quiet bad. Let's to try others approach."
      ],
      "metadata": {
        "id": "4m4bpu_rPyvI"
      }
    },
    {
      "cell_type": "markdown",
      "source": [
        "# Using LSTM\n",
        "\n"
      ],
      "metadata": {
        "id": "yKXDxqjWQJVg"
      }
    },
    {
      "cell_type": "code",
      "source": [
        "tokenizer = Tokenizer()\n",
        "tokenizer.fit_on_texts(df_total['text'].values)\n",
        "maxlen = 700\n",
        "train_sequences = tokenizer.texts_to_sequences(df_train['text'])\n",
        "X_train_tok = pad_sequences(train_sequences, maxlen=maxlen)\n",
        "\n",
        "val_sequences = tokenizer.texts_to_sequences(df_val['text'])\n",
        "X_val_tok = pad_sequences(val_sequences, maxlen=maxlen)\n",
        "\n",
        "vocab_size = len(tokenizer.word_index) + 1\n",
        "vocab_size"
      ],
      "metadata": {
        "id": "Nv30bCDgQRiU",
        "colab": {
          "base_uri": "https://localhost:8080/"
        },
        "outputId": "196fa4e9-eb32-4856-fbb7-ad8a2b80caba"
      },
      "execution_count": 21,
      "outputs": [
        {
          "output_type": "execute_result",
          "data": {
            "text/plain": [
              "38441"
            ]
          },
          "metadata": {},
          "execution_count": 21
        }
      ]
    },
    {
      "cell_type": "code",
      "source": [
        "drop_out = 0.4\n",
        "input_dim = vocab_size\n",
        "output_dim = 70\n",
        "input_length = maxlen\n",
        "optimizer = Adam(learning_rate=0.001)\n",
        "metrics = [BinaryAccuracy(threshold=0.3)]\n",
        "#Build model\n",
        "\n",
        "model = Sequential()\n",
        "#Embedding Layer\n",
        "model.add(Embedding(input_dim=input_dim, output_dim=output_dim, input_length = input_length))\n",
        "#LSTM Layer\n",
        "model.add(Bidirectional(LSTM(units=output_dim, dropout= drop_out, return_sequences=True)))\n",
        "\n",
        "model.add(Bidirectional(LSTM(units=output_dim,return_sequences=True)))\n",
        "\n",
        "model.add(GlobalAveragePooling1D())\n",
        "#Dense Layer\n",
        "model.add(Dense(300, activation = 'relu'))\n",
        "model.add(Dropout(0.1))\n",
        "\n",
        "model.add(Dense(100, activation = 'relu'))\n",
        "model.add(Dropout(0.1))\n",
        "\n",
        "model.add(Dense(50, activation = 'relu'))\n",
        "model.add(Dense(12, activation = 'sigmoid'))\n",
        "\n",
        "model.compile(optimizer=optimizer, loss='binary_crossentropy', metrics=metrics)\n"
      ],
      "metadata": {
        "id": "97iqt9BeiV7P"
      },
      "execution_count": 22,
      "outputs": []
    },
    {
      "cell_type": "code",
      "source": [
        "model.fit(X_train_tok, y_train, epochs=50, batch_size=32,\n",
        "          validation_data=(X_val_tok, y_val))\n"
      ],
      "metadata": {
        "colab": {
          "base_uri": "https://localhost:8080/"
        },
        "id": "smKjRO4nnDn2",
        "outputId": "9854cc00-cd17-4ff0-ab13-f2b8e6a5a1b1"
      },
      "execution_count": 23,
      "outputs": [
        {
          "output_type": "stream",
          "name": "stdout",
          "text": [
            "Epoch 1/50\n",
            "47/47 [==============================] - 24s 292ms/step - loss: 0.5726 - binary_accuracy: 0.5609 - val_loss: 0.5356 - val_binary_accuracy: 0.6520\n",
            "Epoch 2/50\n",
            "47/47 [==============================] - 11s 227ms/step - loss: 0.5305 - binary_accuracy: 0.6577 - val_loss: 0.5081 - val_binary_accuracy: 0.6788\n",
            "Epoch 3/50\n",
            "47/47 [==============================] - 11s 241ms/step - loss: 0.5048 - binary_accuracy: 0.6941 - val_loss: 0.4875 - val_binary_accuracy: 0.7172\n",
            "Epoch 4/50\n",
            "47/47 [==============================] - 11s 234ms/step - loss: 0.4749 - binary_accuracy: 0.7263 - val_loss: 0.4433 - val_binary_accuracy: 0.7596\n",
            "Epoch 5/50\n",
            "47/47 [==============================] - 11s 240ms/step - loss: 0.4484 - binary_accuracy: 0.7425 - val_loss: 0.4345 - val_binary_accuracy: 0.7793\n",
            "Epoch 6/50\n",
            "47/47 [==============================] - 10s 209ms/step - loss: 0.4348 - binary_accuracy: 0.7477 - val_loss: 0.4125 - val_binary_accuracy: 0.7813\n",
            "Epoch 7/50\n",
            "47/47 [==============================] - 9s 186ms/step - loss: 0.4254 - binary_accuracy: 0.7457 - val_loss: 0.4116 - val_binary_accuracy: 0.7475\n",
            "Epoch 8/50\n",
            "47/47 [==============================] - 10s 212ms/step - loss: 0.4192 - binary_accuracy: 0.7520 - val_loss: 0.3928 - val_binary_accuracy: 0.8025\n",
            "Epoch 9/50\n",
            "47/47 [==============================] - 8s 180ms/step - loss: 0.4051 - binary_accuracy: 0.7627 - val_loss: 0.3813 - val_binary_accuracy: 0.7773\n",
            "Epoch 10/50\n",
            "47/47 [==============================] - 8s 170ms/step - loss: 0.3920 - binary_accuracy: 0.7681 - val_loss: 0.3653 - val_binary_accuracy: 0.7843\n",
            "Epoch 11/50\n",
            "47/47 [==============================] - 9s 198ms/step - loss: 0.3844 - binary_accuracy: 0.7767 - val_loss: 0.3563 - val_binary_accuracy: 0.8010\n",
            "Epoch 12/50\n",
            "47/47 [==============================] - 9s 186ms/step - loss: 0.3821 - binary_accuracy: 0.7791 - val_loss: 0.3505 - val_binary_accuracy: 0.8071\n",
            "Epoch 13/50\n",
            "47/47 [==============================] - 8s 172ms/step - loss: 0.3663 - binary_accuracy: 0.7946 - val_loss: 0.3262 - val_binary_accuracy: 0.8172\n",
            "Epoch 14/50\n",
            "47/47 [==============================] - 8s 180ms/step - loss: 0.3536 - binary_accuracy: 0.8049 - val_loss: 0.3266 - val_binary_accuracy: 0.8258\n",
            "Epoch 15/50\n",
            "47/47 [==============================] - 9s 183ms/step - loss: 0.3441 - binary_accuracy: 0.8103 - val_loss: 0.3065 - val_binary_accuracy: 0.8394\n",
            "Epoch 16/50\n",
            "47/47 [==============================] - 8s 175ms/step - loss: 0.3347 - binary_accuracy: 0.8209 - val_loss: 0.3006 - val_binary_accuracy: 0.8374\n",
            "Epoch 17/50\n",
            "47/47 [==============================] - 8s 166ms/step - loss: 0.3243 - binary_accuracy: 0.8254 - val_loss: 0.2860 - val_binary_accuracy: 0.8566\n",
            "Epoch 18/50\n",
            "47/47 [==============================] - 8s 171ms/step - loss: 0.3163 - binary_accuracy: 0.8283 - val_loss: 0.2818 - val_binary_accuracy: 0.8500\n",
            "Epoch 19/50\n",
            "47/47 [==============================] - 7s 142ms/step - loss: 0.3114 - binary_accuracy: 0.8318 - val_loss: 0.2672 - val_binary_accuracy: 0.8510\n",
            "Epoch 20/50\n",
            "47/47 [==============================] - 7s 150ms/step - loss: 0.2990 - binary_accuracy: 0.8390 - val_loss: 0.2606 - val_binary_accuracy: 0.8576\n",
            "Epoch 21/50\n",
            "47/47 [==============================] - 8s 170ms/step - loss: 0.2940 - binary_accuracy: 0.8420 - val_loss: 0.2590 - val_binary_accuracy: 0.8591\n",
            "Epoch 22/50\n",
            "47/47 [==============================] - 6s 130ms/step - loss: 0.2900 - binary_accuracy: 0.8408 - val_loss: 0.2484 - val_binary_accuracy: 0.8753\n",
            "Epoch 23/50\n",
            "47/47 [==============================] - 7s 144ms/step - loss: 0.2875 - binary_accuracy: 0.8449 - val_loss: 0.2649 - val_binary_accuracy: 0.8530\n",
            "Epoch 24/50\n",
            "47/47 [==============================] - 6s 132ms/step - loss: 0.2899 - binary_accuracy: 0.8402 - val_loss: 0.2580 - val_binary_accuracy: 0.8732\n",
            "Epoch 25/50\n",
            "47/47 [==============================] - 8s 162ms/step - loss: 0.2829 - binary_accuracy: 0.8457 - val_loss: 0.2415 - val_binary_accuracy: 0.8717\n",
            "Epoch 26/50\n",
            "47/47 [==============================] - 6s 119ms/step - loss: 0.2755 - binary_accuracy: 0.8473 - val_loss: 0.2515 - val_binary_accuracy: 0.8808\n",
            "Epoch 27/50\n",
            "47/47 [==============================] - 7s 154ms/step - loss: 0.2692 - binary_accuracy: 0.8539 - val_loss: 0.2380 - val_binary_accuracy: 0.8737\n",
            "Epoch 28/50\n",
            "47/47 [==============================] - 6s 126ms/step - loss: 0.2678 - binary_accuracy: 0.8549 - val_loss: 0.2295 - val_binary_accuracy: 0.8778\n",
            "Epoch 29/50\n",
            "47/47 [==============================] - 7s 142ms/step - loss: 0.2619 - binary_accuracy: 0.8564 - val_loss: 0.2309 - val_binary_accuracy: 0.8768\n",
            "Epoch 30/50\n",
            "47/47 [==============================] - 6s 116ms/step - loss: 0.2590 - binary_accuracy: 0.8560 - val_loss: 0.2198 - val_binary_accuracy: 0.8934\n",
            "Epoch 31/50\n",
            "47/47 [==============================] - 6s 128ms/step - loss: 0.2607 - binary_accuracy: 0.8578 - val_loss: 0.2199 - val_binary_accuracy: 0.8869\n",
            "Epoch 32/50\n",
            "47/47 [==============================] - 7s 137ms/step - loss: 0.2554 - binary_accuracy: 0.8568 - val_loss: 0.2184 - val_binary_accuracy: 0.8960\n",
            "Epoch 33/50\n",
            "47/47 [==============================] - 7s 147ms/step - loss: 0.2499 - binary_accuracy: 0.8648 - val_loss: 0.2145 - val_binary_accuracy: 0.8955\n",
            "Epoch 34/50\n",
            "47/47 [==============================] - 6s 137ms/step - loss: 0.2510 - binary_accuracy: 0.8598 - val_loss: 0.2158 - val_binary_accuracy: 0.8854\n",
            "Epoch 35/50\n",
            "47/47 [==============================] - 7s 144ms/step - loss: 0.2475 - binary_accuracy: 0.8616 - val_loss: 0.2253 - val_binary_accuracy: 0.8788\n",
            "Epoch 36/50\n",
            "47/47 [==============================] - 6s 133ms/step - loss: 0.2577 - binary_accuracy: 0.8571 - val_loss: 0.2071 - val_binary_accuracy: 0.8869\n",
            "Epoch 37/50\n",
            "47/47 [==============================] - 6s 122ms/step - loss: 0.2461 - binary_accuracy: 0.8669 - val_loss: 0.2175 - val_binary_accuracy: 0.8621\n",
            "Epoch 38/50\n",
            "47/47 [==============================] - 6s 131ms/step - loss: 0.2477 - binary_accuracy: 0.8625 - val_loss: 0.2016 - val_binary_accuracy: 0.8975\n",
            "Epoch 39/50\n",
            "47/47 [==============================] - 5s 116ms/step - loss: 0.2381 - binary_accuracy: 0.8691 - val_loss: 0.1956 - val_binary_accuracy: 0.8995\n",
            "Epoch 40/50\n",
            "47/47 [==============================] - 6s 139ms/step - loss: 0.2283 - binary_accuracy: 0.8755 - val_loss: 0.1907 - val_binary_accuracy: 0.8970\n",
            "Epoch 41/50\n",
            "47/47 [==============================] - 6s 113ms/step - loss: 0.2275 - binary_accuracy: 0.8743 - val_loss: 0.1925 - val_binary_accuracy: 0.8975\n",
            "Epoch 42/50\n",
            "47/47 [==============================] - 5s 106ms/step - loss: 0.2230 - binary_accuracy: 0.8759 - val_loss: 0.1875 - val_binary_accuracy: 0.9010\n",
            "Epoch 43/50\n",
            "47/47 [==============================] - 5s 113ms/step - loss: 0.2208 - binary_accuracy: 0.8793 - val_loss: 0.1871 - val_binary_accuracy: 0.9091\n",
            "Epoch 44/50\n",
            "47/47 [==============================] - 6s 119ms/step - loss: 0.2175 - binary_accuracy: 0.8803 - val_loss: 0.1768 - val_binary_accuracy: 0.9025\n",
            "Epoch 45/50\n",
            "47/47 [==============================] - 6s 123ms/step - loss: 0.2124 - binary_accuracy: 0.8815 - val_loss: 0.1726 - val_binary_accuracy: 0.9111\n",
            "Epoch 46/50\n",
            "47/47 [==============================] - 5s 113ms/step - loss: 0.2135 - binary_accuracy: 0.8846 - val_loss: 0.1853 - val_binary_accuracy: 0.8879\n",
            "Epoch 47/50\n",
            "47/47 [==============================] - 6s 139ms/step - loss: 0.2139 - binary_accuracy: 0.8825 - val_loss: 0.1757 - val_binary_accuracy: 0.9081\n",
            "Epoch 48/50\n",
            "47/47 [==============================] - 5s 106ms/step - loss: 0.2142 - binary_accuracy: 0.8814 - val_loss: 0.1807 - val_binary_accuracy: 0.9096\n",
            "Epoch 49/50\n",
            "47/47 [==============================] - 7s 140ms/step - loss: 0.2091 - binary_accuracy: 0.8849 - val_loss: 0.1683 - val_binary_accuracy: 0.9081\n",
            "Epoch 50/50\n",
            "47/47 [==============================] - 5s 118ms/step - loss: 0.2035 - binary_accuracy: 0.8861 - val_loss: 0.1705 - val_binary_accuracy: 0.9091\n"
          ]
        },
        {
          "output_type": "execute_result",
          "data": {
            "text/plain": [
              "<keras.src.callbacks.History at 0x7e0928f4bb50>"
            ]
          },
          "metadata": {},
          "execution_count": 23
        }
      ]
    },
    {
      "cell_type": "code",
      "source": [
        "train_sequences = tokenizer.texts_to_sequences(df_test['text'])\n",
        "X_test_tok = pad_sequences(train_sequences, maxlen=maxlen)\n",
        "\n",
        "y_predict = model.predict(X_test_tok)\n",
        "y_predict = tf.round(y_predict).numpy()\n",
        "\n",
        "print(classification_report(y_test, y_predict, target_names=y_test.columns.to_list()))\n"
      ],
      "metadata": {
        "id": "vKYv1-7xpqJc",
        "outputId": "af77b2ed-46fd-43c0-be7e-619dd17e5354",
        "colab": {
          "base_uri": "https://localhost:8080/"
        }
      },
      "execution_count": 24,
      "outputs": [
        {
          "output_type": "stream",
          "name": "stdout",
          "text": [
            "12/12 [==============================] - 2s 44ms/step\n",
            "              precision    recall  f1-score   support\n",
            "\n",
            "       anger       0.46      0.62      0.53       121\n",
            "anticipation       0.66      0.67      0.66       218\n",
            "     disgust       0.58      0.71      0.64       156\n",
            "        fear       0.64      0.53      0.58       195\n",
            "         joy       0.31      0.07      0.12        70\n",
            "        love       0.00      0.00      0.00        30\n",
            "    optimism       0.32      0.41      0.36        97\n",
            "   pessimism       0.45      0.74      0.56       120\n",
            "     sadness       0.56      0.40      0.47       136\n",
            "    surprise       0.38      0.10      0.16        49\n",
            "       trust       0.35      0.10      0.16        60\n",
            "     neutral       0.45      0.13      0.20        38\n",
            "\n",
            "   micro avg       0.52      0.50      0.51      1290\n",
            "   macro avg       0.43      0.37      0.37      1290\n",
            "weighted avg       0.51      0.50      0.48      1290\n",
            " samples avg       0.45      0.44      0.41      1290\n",
            "\n"
          ]
        },
        {
          "output_type": "stream",
          "name": "stderr",
          "text": [
            "/usr/local/lib/python3.10/dist-packages/sklearn/metrics/_classification.py:1344: UndefinedMetricWarning: Precision and F-score are ill-defined and being set to 0.0 in samples with no predicted labels. Use `zero_division` parameter to control this behavior.\n",
            "  _warn_prf(average, modifier, msg_start, len(result))\n",
            "/usr/local/lib/python3.10/dist-packages/sklearn/metrics/_classification.py:1344: UndefinedMetricWarning: Recall and F-score are ill-defined and being set to 0.0 in samples with no true labels. Use `zero_division` parameter to control this behavior.\n",
            "  _warn_prf(average, modifier, msg_start, len(result))\n"
          ]
        }
      ]
    },
    {
      "cell_type": "markdown",
      "source": [
        "\n",
        "The current results have improved significantly compared to before (tf-idf + logistic regression). When compared to the results in the original code, they are also close (some labels are better, some labels are worse). However, the LSTM model has fewer parameters and runs much faster than BERT (in original code)"
      ],
      "metadata": {
        "id": "grgNRmu6r1qd"
      }
    }
  ]
}